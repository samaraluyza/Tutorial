{
  "cells": [
    {
      "cell_type": "markdown",
      "metadata": {
        "colab_type": "text",
        "id": "view-in-github"
      },
      "source": [
        "<a href=\"https://colab.research.google.com/github/samaraluyza/Tutorial/blob/master/OpenCV/Tutorial_Sem_execu%C3%A7%C3%A3o.ipynb\" target=\"_parent\"><img src=\"https://colab.research.google.com/assets/colab-badge.svg\" alt=\"Open In Colab\"/></a>"
      ]
    },
    {
      "cell_type": "markdown",
      "metadata": {
        "colab_type": "text",
        "id": "ADtYeIkAmU3a"
      },
      "source": [
        "\n",
        "\n",
        "# Roteiro: Visual Computacional - OpenCV\n",
        "\n",
        "\n",
        "\n",
        "\n",
        "\n"
      ]
    },
    {
      "cell_type": "markdown",
      "metadata": {
        "colab_type": "text",
        "id": "PPlcwa6dfs1R"
      },
      "source": [
        "\n",
        "## Tutorial OpenCV com python\n",
        "\n",
        "Neste tutorial vamos apresentar os principais usos da biblioteca OpenCV utilizada para processamento de imagens.\n",
        "Nesse tutorial vamos aprender sobre as funções básica do OpenCV e explorar os algoritmos de aprendizado de máquina para detecção e reconhecimento de objeto.\n",
        "\n",
        "Para a aproveitar o roteiro exporte esse notebook com todas as seções executadas e alteradas quando foi pedido.\n",
        "\n",
        "A primeira parte do tutorial apresenta a ferramenta Google Colab, depois é apresentada a linguagem Python e alguns conceitos relacionados a programação. Após essa introdução começamos a explorar a biblioteca OpenCV.\n",
        "\n",
        "\n"
      ]
    },
    {
      "cell_type": "markdown",
      "metadata": {
        "colab_type": "text",
        "id": "FYsY8A2IxoqX"
      },
      "source": [
        "<p><img alt=\"Colaboratory logo\" height=\"45px\" src=\"/img/colab_favicon.ico\" align=\"left\" hspace=\"10px\" vspace=\"0px\"></p>\n",
        "\n",
        "### Google Colab\n",
        "\n",
        "\n",
        "**O que é o Google Colab?**\n",
        "\n",
        "O Google Colab é uma ambiente interativo onde você pode escrever e executar código.\n",
        "Ele é composto de células de texto e de código.\n",
        "\n",
        "**Células de texto e células de código**\n",
        "\n",
        "Células de texto contém textos na linguagem markdown e podem ser editados após um dublo clique na célula.\n",
        "\n",
        "Células de código contém um código python executável, para executar o código , selecione-o com um clique e pressione o botão play à esquerda do código ou use o atalho de teclado 'Command / Ctrl + Enter'. Para editar o código, basta clicar na célula e começar a editar.\n",
        "\n",
        "**Como funciona o Google Colab?**\n",
        "\n",
        "Você pode executar uma célula de código independente de outras, mas caso tente executar uma célula de código que possui dependência de uma variável de uma célula anterior não executada vai acontecer um erro.\n",
        "\n"
      ]
    },
    {
      "cell_type": "markdown",
      "metadata": {
        "colab_type": "text",
        "id": "BZ2DZUvY1jDs"
      },
      "source": [
        "### Python![Python](https://upload.wikimedia.org/wikipedia/commons/thumb/f/f8/Python_logo_and_wordmark.svg/320px-Python_logo_and_wordmark.svg.png)\n",
        "\n",
        "Python é uma linguagem de programação que vamos utilizar no nosso tutorial. Python é uma linguagem de programação de alto nível, interpretada, de script. A linguagem python é imperativa, orientada a objetos e funcional. Foi lançada por Guido van Rossum em 1991. A linguagem é desenvolvida e mantida pela comunidade que é gerenciada pela organização sem fins lucrativos Python Software Foundation\n",
        "\n",
        "Para prosseguir é importante conhecer alguns conceitos de programação com python.\n",
        "\n",
        "**Variável**\n",
        "\n",
        "Uma variável é um espaço na memória do computador destinado a um dado que é alterado durante a execução do algoritmo. Para funcionar corretamente, as variáveis precisam ser definidas por nomes e tipos.\n",
        "\n",
        "Atribuímos valores a variável utilizando o sinal de '='\n"
      ]
    },
    {
      "cell_type": "code",
      "execution_count": null,
      "metadata": {
        "colab": {},
        "colab_type": "code",
        "id": "OrxSZoNsh9rc"
      },
      "outputs": [],
      "source": [
        "var_num = 100 #Atribuindo valor 100 a variável var_num\n",
        "var_num"
      ]
    },
    {
      "cell_type": "markdown",
      "metadata": {
        "colab_type": "text",
        "id": "kiSxBSmgh0Ip"
      },
      "source": [
        "\n",
        "\n",
        "**Tipos**\n",
        "\n",
        "Variáveis em python podem ser tipificadas como, números, textos e boleanos. Os números podem ser do tipo inteiros ex.: 3,  ponto flutuante ex.: 3.14. Variáveis boleanas contém valores de verdadeiro ou falso ex.: True. \n",
        "\n",
        "Variáveis de texto pode conter palavras, frases e textos.\n",
        "\n",
        "```python\n",
        " texto = 'Olá, tudo bem?' # Variável com o nome texto com valor atribuído de uma frase.\n",
        "```\n",
        "\n",
        "Dados também podem estar organizados em vetores e matrizes.\n",
        "\n",
        "```python\n",
        "num_int = [1, 2, 3, 4]  #vetor de números inteiros\n",
        "\n",
        "matriz = [ 1, 2, 3\n",
        "           4, 5, 6\n",
        "           7, 8, 9 ] # matriz de números inteiros\n",
        "```\n",
        "\n",
        "Matrizes e vetores tem seu valores indexados por números inteiros começando em 0, isso significa que para acessa o valor da primeira posição de um vetor precisamos acessar a posição 0 e assim em diante.\n",
        "\n",
        "\n",
        "\n"
      ]
    },
    {
      "cell_type": "code",
      "execution_count": null,
      "metadata": {
        "colab": {},
        "colab_type": "code",
        "id": "wNICqVVLimc_"
      },
      "outputs": [],
      "source": [
        "num_int = [1, 2, 3, 4]  #vetor de números inteiros\n",
        "\n",
        "primeiro_valor =  num_int[0] \n",
        "\n",
        "print(\"Primeiro valor do vetor: \", primeiro_valor) # print() é a função de escrita na tela em python"
      ]
    },
    {
      "cell_type": "markdown",
      "metadata": {
        "colab_type": "text",
        "id": "AM_D7dXNi6De"
      },
      "source": [
        "**Funções**\n",
        "\n",
        "Funções em python são utilizadas para executar alguma tarefa podendo finalizar retornando um valor (ou mais) ou não. Funções podem receber parâmetros (variáveis) para serem executadas, mas nem todas as funções precisam receber parâmetros.\n",
        "\n",
        "\n",
        "Ex.: Na função abaixo ele recebe dois parâmetros e retornar a soma dos dois valores.\n",
        "\n"
      ]
    },
    {
      "cell_type": "code",
      "execution_count": null,
      "metadata": {
        "colab": {},
        "colab_type": "code",
        "id": "6O3tgVfM_LIh"
      },
      "outputs": [],
      "source": [
        "var_num = 100 \n",
        "\n",
        "var_num2 = 150  \n",
        "\n",
        "def somar(x, y):  # Função de somar, recebe dois parâmetros e retorna o valor dos parâmetros somados\n",
        "  soma = x + y\n",
        "  return soma\n",
        "\n",
        "result = somar(var_num, var_num2)\n",
        "\n",
        "print(\"Valor da chamada da função: \" , result) # Função de escrita na tela\n",
        "\n"
      ]
    },
    {
      "cell_type": "markdown",
      "metadata": {
        "colab_type": "text",
        "id": "TFoPw5qeietj"
      },
      "source": [
        "\n",
        "\n",
        "\n",
        "**Bibliotecas**\n",
        "\n",
        "Bibliotecas são conjuntos de funções, entidades, padrões e estrutura de dados que são reutilizados em algoritmos. Em python elas são referenciadas no inicio do algoritmo utilizando a palavra ```import```  \n",
        "\n",
        "Neste tutorial iremos utilizar as bibliotecas:\n",
        "\n",
        "OpenCV -> Biblioteca com funções, classes e algorítimos dedicados para processamento de imagem.\n",
        "\n",
        "Numpy -> Biblioteca que suporta arrays e matrizes multidimensionais, possuindo uma larga coleção de funções matemáticas para trabalhar com estas estruturas.\n",
        "\n",
        "Matplotlib -> Biblioteca de software para criação de gráficos e visualizações de dados em geral\n"
      ]
    },
    {
      "cell_type": "markdown",
      "metadata": {
        "colab_type": "text",
        "id": "gEGHjPI61pPn"
      },
      "source": [
        "### OpenCV ![OpenCV](https://docs.opencv.org/4.3.0/opencv-logo-small.png)\n",
        "\n",
        "OpenCV (Open Source Computer Vision Library), criada em 2000, é uma biblioteca multiplataforma, livre ao uso acadêmico e comercial, para o desenvolvimento de aplicativos na área de Visão computacional. O OpenCV possui módulos de Processamento de Imagens e Video I/O, Estrutura de dados, Álgebra Linear, GUI (Interface Gráfica do Usuário) Básica com sistema de janelas independentes, Controle de mouse e teclado, além de mais de 350 algoritmos de Visão computacional como: Filtros de imagem, calibração de câmera, reconhecimento de objetos, análise estrutural e outros. \n",
        "\n",
        "A biblioteca OpenCv é disponibilizada para a linguagem Python por meio da biblioteca cv2.\n",
        "\n",
        "Ela é composta dos seguintes módulos: \n",
        "* cv — Módulo das principais funcionalidades e algoritmos de Visão Computacional do OpenCV.\n",
        "* cvaux — Módulo com algoritmos de Visão, ainda está em fase experimental.\n",
        "* cxcore — Módulo de Estrutura de Dados e Álgebra Linear.\n",
        "* highgui — Módulo de Controle de Interface e dispositivos de entrada.\n",
        "* ml — Módulo de “Machine Learning” é um módulo processador de imagem que utiliza algoritmos com aprendizagem de maquina.\n",
        "* dnn — Módulo de “Deep Learning” é um módulo processador de imagem que utiliza algoritmos com aprendizagem de máquina profundo.\n",
        "* ed — Manual de estrutura de dados e operações.\n",
        "\n"
      ]
    },
    {
      "cell_type": "markdown",
      "metadata": {
        "colab_type": "text",
        "id": "ScYyOc979DBe"
      },
      "source": [
        "#### Principais funções\n",
        "\n",
        "Abaixo serão apresentadas as principais funções da biblioteca openCV. Para explorar ele será necessário importar as bibliotecas abaixo."
      ]
    },
    {
      "cell_type": "code",
      "execution_count": null,
      "metadata": {
        "colab": {},
        "colab_type": "code",
        "id": "4AxbFcttx09d"
      },
      "outputs": [],
      "source": [
        "# Importar as bibliotecas que serão utilizadas\n",
        "\n",
        "%matplotlib inline\n",
        "from matplotlib import pyplot as plt #Biblioteca para mostrar gráficos e imagens\n",
        "import cv2 as cv  # Biblioteca do OpenCV\n",
        "import numpy as np\n"
      ]
    },
    {
      "cell_type": "markdown",
      "metadata": {
        "colab_type": "text",
        "id": "8DiAJzbW_F7K"
      },
      "source": [
        "##### **Representação de imagens**\n",
        "##### Pixel e imagens\n",
        "\n",
        "Todas as imagens consistem em pixels, que são os blocos de construção brutos das imagens. As imagens são feitas de pixels em uma matriz. Uma imagem de 640 x 480 possui 640 colunas (a largura) e 480 linhas (a altura). Existem 640 * 480 = 307200 pixels em uma imagem com essas dimensões.\n",
        "\n",
        "Cada pixel em uma imagem em escala de cinza tem um valor que representa a tonalidade de cinza. No OpenCV, existem 256 tons de cinza - de 0 a 255. Portanto, uma imagem em escala de cinza teria um valor associado a cada pixel.\n",
        "\n",
        "Os pixels em uma imagem colorida têm informações adicionais. Existem vários espaços de cores com os quais você logo se familiarizará ao aprender sobre o processamento de imagens. Para simplificar, vamos considerar apenas o espaço de cores RGB.\n",
        "\n",
        "No OpenCV, as imagens coloridas no espaço de cores RGB (vermelho, verde, azul) possuem três tuplas associadas a cada pixel: (B, G, R). As imagens são representadas como matrizes (matrizes 2D) ou tensores 3D (para obter canais RGB). OpenCV em python representa imagens como matrizes da biblioteca numpy (array numpy)."
      ]
    },
    {
      "cell_type": "code",
      "execution_count": null,
      "metadata": {
        "colab": {},
        "colab_type": "code",
        "id": "DAc8llMEuqVU"
      },
      "outputs": [],
      "source": [
        "# Download da imagem de exemplo e salvando ela como cats.jpg\n",
        "\n",
        "!wget \"http://vetplus.vet.br/wp-content/uploads/2019/02/group-persian-kittens-sitting-on-cat-tower-picture-id927401846.jpg\" -O cats.jpg\n"
      ]
    },
    {
      "cell_type": "markdown",
      "metadata": {
        "colab_type": "text",
        "id": "VIjRAOJW-pLM"
      },
      "source": [
        "##### Leitura de imagens\n",
        "\n",
        "Podemos realizar a leitura de imagem utilizando a função ```imread``` passando como parâmetro o caminho da imagem."
      ]
    },
    {
      "cell_type": "code",
      "execution_count": null,
      "metadata": {
        "colab": {},
        "colab_type": "code",
        "id": "LtQmI8a12EU7"
      },
      "outputs": [],
      "source": [
        "# 1) Leitura da imagem de gatos, utilizando a função imread da biblioteca OpenCV \n",
        "#passando como parâmetro o nome da imagem\n",
        "\n",
        "gatos = cv.imread(\"cats.jpg\")\n",
        "\n",
        "# 2) Output da imagem é um vetor de matriz \n",
        "print(gatos)\n",
        "\n",
        "plt.imshow(gatos) # Carregando a imagem para mostrar utilizando a função imshow\n",
        "plt.show() #mostrar imagem\n",
        "\n",
        "print(\"Tipo da imagem carregada\", type(gatos))\n"
      ]
    },
    {
      "cell_type": "markdown",
      "metadata": {
        "colab_type": "text",
        "id": "4FQbEvvvGv7d"
      },
      "source": [
        "As cores da imagem estão um pouco diferentes, isso porque a biblioteca opencv representa os canais de cores da imagem como BGR e não RGB. Você pode converter as cores da sua imagem utilizando a função ```cvtColor``` passando como parâmetro usa imagem e qual o tipo de conversão deseja fazer.\n"
      ]
    },
    {
      "cell_type": "code",
      "execution_count": null,
      "metadata": {
        "colab": {},
        "colab_type": "code",
        "id": "Z83kQCou-uMK"
      },
      "outputs": [],
      "source": [
        "# 1) Correção de cores\n",
        "\n",
        "gatos_coloridos = cv.cvtColor(gatos, cv.COLOR_BGR2RGB) # Convertendo BGR para RGB\n",
        "plt.imshow(gatos_coloridos)\n",
        "plt.show()\n"
      ]
    },
    {
      "cell_type": "markdown",
      "metadata": {
        "colab_type": "text",
        "id": "scTUuO9xP_Yj"
      },
      "source": [
        "##### Manipulando imagens\n",
        "\n",
        "Podemos manipular imagens de diversas formas utilizando o OpenCV. Podemos recortar, girar, redimensionar e desenhar em imagens. "
      ]
    },
    {
      "cell_type": "code",
      "execution_count": null,
      "metadata": {
        "colab": {},
        "colab_type": "code",
        "id": "B1QfkNmnRge4"
      },
      "outputs": [],
      "source": [
        "# Recortando imagens\n",
        "\n",
        "#Extraindo um retangulo de tamanho 200x150 da imagem que começa em x=0,y=250 e termina em x=200,y=400\n",
        "\n",
        "recorte = gatos_coloridos[0:250, 200:400] # Coma a imagem é uma matiz\n",
        "plt.imshow(recorte)\n",
        "plt.show()\n"
      ]
    },
    {
      "cell_type": "code",
      "execution_count": null,
      "metadata": {
        "colab": {},
        "colab_type": "code",
        "id": "6tQSPsZxT8p9"
      },
      "outputs": [],
      "source": [
        "#@title Redimensionar Imagem { run: \"auto\", output-height: 100, form-width: \"30%\" }\n",
        "\n",
        "altura = 172 #@param {type:\"slider\", min:1, max:600, step:1}\n",
        "largura = 161 #@param {type:\"slider\", min:1, max:400, step:1}\n",
        "\n",
        "# Podemos redimensionar imagem utilizando a função resize \n",
        "# Parâmetros imagens e novo tamanho dela\n",
        "\n",
        "red_imagem = cv.resize(gatos_coloridos, (altura, largura)) # Utilizando a função resize\n",
        "plt.imshow(red_imagem)\n",
        "plt.show()"
      ]
    },
    {
      "cell_type": "code",
      "execution_count": null,
      "metadata": {
        "cellView": "both",
        "colab": {},
        "colab_type": "code",
        "id": "zkA57RxeUzZo"
      },
      "outputs": [],
      "source": [
        "#@title Rotacionar Imagem { run: \"auto\", output-height: 20, form-width: \"30%\" }\n",
        "\n",
        "angulo = 360 #@param {type:\"slider\", min:-360, max:360, step:1}\n",
        "\n",
        "xcentro = 330 #@param {type:\"slider\", min:0, max:665, step:1}\n",
        "ycentro = 240 #@param {type:\"slider\", min:0, max:455, step:1}\n",
        "\n",
        "# Valores de altura e largura da imagem\n",
        "largura, altura, _ = gatos_coloridos.shape\n",
        "\n",
        "# Centro para rotacionar baseado nele. Altere os valores ao lado -->\n",
        "center = (xcentro, ycentro)\n",
        "\n",
        "# Matriz de rotação\n",
        "M = cv.getRotationMatrix2D(center, angulo, 1.0)\n",
        "\n",
        "#Função de Rotação utilizando a matriz de rotação como parâmetro \n",
        "# para a função warpAffine \n",
        "rotated = cv.warpAffine(gatos_coloridos, M, (altura, largura))\n",
        "plt.imshow(rotated)\n",
        "plt.show()"
      ]
    },
    {
      "cell_type": "markdown",
      "metadata": {
        "colab_type": "text",
        "id": "U-cTjvtNm8iF"
      },
      "source": [
        "O opencv disponibiliza algoritmos de filtros para aplicar em imagens. A desfocagem da imagem é obtida pela convolução da imagem com um núcleo de filtro. É útil para remover ruídos. Na verdade, ele remove o conteúdo de alta frequência (por exemplo, ruído, bordas) da imagem, resultando em bordas borradas quando esse filtro é aplicado."
      ]
    },
    {
      "cell_type": "code",
      "execution_count": null,
      "metadata": {
        "colab": {},
        "colab_type": "code",
        "id": "fTe6D87TmG3J"
      },
      "outputs": [],
      "source": [
        "#@title Desfocando a Imagem { run: \"auto\", form-width: \"25%\", display-mode: \"both\" }\n",
        "\n",
        "kernel = 5 #@param [\"5\", \"10\", \"15\", \"100\"] {type:\"raw\"}\n",
        "\n",
        "# Desfocar - Altere o valor do kernel  para testar \n",
        "gatos_desfocados = cv.blur(gatos_coloridos,(kernel, kernel))  \n",
        "# Utilizando a função blur com um núcleo 5x5 \n",
        "\n",
        "\n",
        "gatos_desfocados2 = cv.GaussianBlur(gatos_coloridos,(5,5),0)  \n",
        "# Utilizando a função GaussianBlur com um núcleo 5x5\n",
        "\n",
        "\n",
        "plt.imshow(gatos_desfocados), plt.title('Blur')\n",
        "plt.show()\n",
        "plt.imshow(gatos_desfocados2), plt.title('GaussianBlur')\n",
        "plt.show()\n"
      ]
    },
    {
      "cell_type": "markdown",
      "metadata": {},
      "source": [
        "##### **Detecção de objetos, pessoas e animais**\n",
        "\n",
        "Com a biblioteca opencv podemos trabalhar com detecção de objetos, pessoas e animais. Uma das forma de fazer isso é utilizando o algoritmo Haar Cascade.\n",
        "\n",
        "\n",
        "O Haar Cascade é um algoritmo de detecção de objetos de aprendizado de máquina usado para identificar objetos em uma imagem ou vídeo e com base no conceito de recursos proposto por Paul Viola e Michael Jones em seu artigo \"Rapid Object Detection using a Boosted Cascade of Simple Features\" em 2001. O algoritmo utiliza características Haar-like, essa características são valores obtidos pela subtração da soma dos pixels sob o retângulo branco da soma dos pixels sob o retângulo escuro. A face humana compartilha de propriedades que podem ser correspondidas utilizando as características Haar-like, como a região dos olhos onde o nariz é mais iluminado que os olhos, o algoritmo de procura por esse padrão na imagem até encontrar o objeto relacionado.\n",
        "\n",
        "\n",
        "\n",
        "É uma abordagem baseada em aprendizado de máquina, na qual uma função em cascade é treinada a partir de muitas imagens positivas e negativas. É então usado para detectar objetos em outras imagens.\n",
        "\n",
        "![alt text](https://www.mathworks.com/help/vision/ug/traincascadeobjectdetector_overview.png)\n",
        "\n",
        "\n",
        "O openCV disponibiliza Cascade classifiers pré-treinados e vamos utiliza-los no exemplo abaixo:\n"
      ]
    },
    {
      "cell_type": "code",
      "execution_count": null,
      "metadata": {
        "colab": {},
        "colab_type": "code",
        "id": "YjZuT7PkwF9i"
      },
      "outputs": [],
      "source": [
        "# Arquivos utilizados para a criação da detecção\n",
        "\n",
        "a = !wget \"https://github.com/opencv/opencv/raw/master/data/haarcascades/haarcascade_frontalcatface.xml\" -O haarcascade_frontalcatface.xml\n"
      ]
    },
    {
      "cell_type": "markdown",
      "metadata": {
        "colab_type": "text",
        "id": "955AyLQvPPtH"
      },
      "source": [
        "Abaixo o modelo baixado vai ser utilizado como detector e a função detectMultiScale com os seguintes parâmetros:\n",
        "\n",
        "Nossa imagem, na qual queremos detectar rostos de gatos.\n",
        "\n",
        "Um **scaleFactor** da nossa pirâmide de imagem usada na detecção de rostos de gatos. Um **scaleFactor** maior aumentará a velocidade do detector, mas poderá prejudicar nossa precisão de detecção verdadeiramente positiva. Por outro lado, um **scaleFactor** menor desacelerará o processo de detecção, mas aumentará as detecções verdadeiro-positivas. No entanto, esse **scaleFactor** menor também pode aumentar a taxa de detecção de falsos positivos. \n",
        "\n",
        "\n",
        "O parâmetro **minNeighbors** controla o número mínimo de caixas delimitadoras detectadas em uma determinada área para que a região seja considerada um objeto. Este parâmetro é muito útil para remover detecções de falso positivo.\n",
        "\n",
        "\n",
        "Finalmente, o parâmetro **minSize** é bastante auto-explicativo. Esse valor garante que cada caixa delimitadora do objeto detectada tenha pelo menos pixels de largura x altura. -> Depende do tamanho da imagem e do objeto na imagem.\n",
        "\n",
        "\n",
        "Altere os valores dos parâmetros abaixo e veja o impacto na detecção dos rostos dos gatos:"
      ]
    },
    {
      "cell_type": "code",
      "execution_count": null,
      "metadata": {
        "colab": {},
        "colab_type": "code",
        "id": "UnYHyUdW3Csx"
      },
      "outputs": [],
      "source": [
        "#@title Detecção utilizando Haar Cascade { run: \"auto\", form-width: \"23%\", display-mode: \"both\" }\n",
        "\n",
        "scaleFactor = 2.0 #@param [\"1.1\", \"1.5\", \"1.3\", \"1.8\", \"2.0\"] {type:\"raw\"}\n",
        "\n",
        "minNeighbors = 5 #@param [\"1\", \"2\", \"3\", \"4\", \"5\"] {type:\"raw\"}\n",
        "\n",
        "minSize = (50, 50) #@param [\"(50, 50)\", \"(75, 75)\", \"(80, 80)\", \"(90, 90)\", \"(100, 100)\"] {type:\"raw\"}\n",
        "\n",
        "# Carregar a imagem de gatos\n",
        "\n",
        "img_gatos = cv.imread(\"cats.jpg\")\n",
        "\n",
        "img_gatos = cv.cvtColor(img_gatos, cv.COLOR_BGR2RGB)\n",
        "\n",
        "# Carregar o detector de rostos de gatos \n",
        "detector = cv.CascadeClassifier(\"haarcascade_frontalcatface.xml\")\n",
        "rects = detector.detectMultiScale(img_gatos, scaleFactor=scaleFactor,\n",
        "\tminNeighbors=minNeighbors, minSize=minSize)\n",
        "\n",
        "# aplicando os retangulos encontrados\n",
        "for (i, (x, y, w, h)) in enumerate(rects):\n",
        "\tcv.rectangle(img_gatos, (x, y), (x + w, y + h), (0, 0, 255), 2)\n",
        "\tcv.putText(img_gatos, \"Gato #{}\".format(i + 1), (x, y - 10),\n",
        "\t\tcv.FONT_HERSHEY_SIMPLEX, 0.55, (0, 0, 255), 2)\n",
        "\n",
        "\n",
        "# Mostrar imagens de gatos com os rostos detectados\n",
        "plt.imshow(img_gatos), plt.title('Gatos detectados')"
      ]
    },
    {
      "cell_type": "markdown",
      "metadata": {
        "colab_type": "text",
        "id": "-tmJ2whg5Ch7"
      },
      "source": [
        "###### **Utilizando o detector de faces humanas**\n",
        "\n",
        "O objetivo dessa etapa é construir um detector de faces utilizando o algoritmo de Haar cascade. \n",
        "\n",
        "Utilize como base o detector de faces de gatos."
      ]
    },
    {
      "cell_type": "code",
      "execution_count": null,
      "metadata": {
        "colab": {},
        "colab_type": "code",
        "id": "ijV3y6C4UyZk"
      },
      "outputs": [],
      "source": [
        "# Download do arquivos Cascade Classifier para faces em xml - Nome haarcascade_frontalface_default.xml\n",
        "\n",
        "a = !wget \"https://github.com/opencv/opencv/raw/master/data/haarcascades/haarcascade_frontalface_default.xml\" -O haarcascade_frontalface_default.xml"
      ]
    },
    {
      "cell_type": "code",
      "execution_count": null,
      "metadata": {
        "colab": {},
        "colab_type": "code",
        "id": "gSY_s7iACLnh"
      },
      "outputs": [],
      "source": [
        "# Download da imagem com rostos\n",
        "\n",
        "# Aqui você deve incluir um link para baixar uma imagem com rostos \n",
        "\n",
        "# Exemplo: http://vetplus.vet.br/wp-content/uploads/2019/02/group-persian-kittens-sitting-on-cat-tower-picture-id927401846.jpg\n",
        "\n",
        "a = !wget \"Link-imagem\" -O faces.jpg  # <--- Mude o nome do arquivo para condizer com o tipo da imagem "
      ]
    },
    {
      "cell_type": "code",
      "execution_count": null,
      "metadata": {
        "colab": {},
        "colab_type": "code",
        "id": "FNRj7Q1fDoEv"
      },
      "outputs": [],
      "source": [
        "# Carregar a imagem com os rostos\n",
        "\n",
        "img_faces = cv.imread(\"faces.jpg\")  #Lembre-se de alterar para o nome que salvou sua imagem\n",
        "\n",
        "img_faces = cv.cvtColor(img_faces, cv.COLOR_BGR2RGB) #Altere as cores da imagem"
      ]
    },
    {
      "cell_type": "code",
      "execution_count": null,
      "metadata": {
        "colab": {},
        "colab_type": "code",
        "id": "xpsFPYD6Co0k"
      },
      "outputs": [],
      "source": [
        "\n",
        "# Carregar o detector de rostos \n",
        "\n",
        "detector = cv.CascadeClassifier(\"nome-haarcascade.xml\")   # Alterar para o xml com detecção de rostos \n",
        "\n",
        "#Altere para os valores ideais para a detecção de faces \n",
        "\n",
        "scaleFactor = 0  \n",
        "\n",
        "minNeighbors = 0\n",
        "\n",
        "minSize = (0, 0)\n",
        "\n",
        "rects = detector.detectMultiScale(img_faces, scaleFactor=scaleFactor,\n",
        "\tminNeighbors=minNeighbors, minSize=minSize)\n",
        "\n",
        "# aplicando os retangulos encontrados\n",
        "for (i, (x, y, w, h)) in enumerate(rects):\n",
        "\tcv.rectangle(img_faces, (x, y), (x + w, y + h), (0, 0, 255), 2)\n",
        "\tcv.putText(img_faces, \"Rosto #{}\".format(i + 1), (x, y - 10),\n",
        "\t\tcv.FONT_HERSHEY_SIMPLEX, 0.55, (0, 0, 255), 2)\n",
        "\n",
        "\n",
        "# Mostrar imagens com os rostos detectados\n",
        "plt.imshow(img_faces), plt.title('Rostos')"
      ]
    },
    {
      "cell_type": "markdown",
      "metadata": {
        "colab_type": "text",
        "id": "LUoFt774NoG7"
      },
      "source": [
        "Escreva abaixo quais os valores de parâmetros você utilizou e por que utilizou esses valores.\n",
        "\n",
        "Resposta: "
      ]
    },
    {
      "cell_type": "markdown",
      "metadata": {
        "colab_type": "text",
        "id": "bUsG3YxzTt3w"
      },
      "source": [
        "##### **Reconhecimento de objetos, números e pessoas**\n",
        "\n",
        "---\n",
        " Abaixo vamos utilizar o algoritmo K-NN para reconhecimento de números escritos a mão.\n",
        "\n",
        " KNN(K — Nearest Neighbors) é um dos algoritmos (de aprendizagem supervisionada) usado no campo de data mining e machine learning, ele é um classificador onde o aprendizado é baseado “no quão similar” é um dado (um vetor) do outro. O treinamento é formado por vetores de n dimensões.\n",
        "\n",
        "O algoritmo segue os seguintes passos:\n",
        "\n",
        "1. Recebe um dado não classificado;\n",
        "2. Mede a distância (Euclidiana, Manhattan, Minkowski ou Ponderada) do novo; dado com todos os outros dados que já estão classificados;\n",
        "3. Obtém as X(no caso essa variável X é o parâmetro K) menores distâncias;\n",
        "4. Verifica a classe de cada da um dos dados que tiveram a menor distância e conta a quantidade de cada classe que aparece;\n",
        "5. Toma como resultado a classe que mais apareceu dentre os dados que tiveram as menores distâncias;\n",
        "6. Classifica o novo dado com a classe tomada como resultado da classificação.\n",
        "\n",
        "Para que o algoritmo seja executa é preciso que ele seja treinado antes, para isso vamos utilizar os dados abaixo para treinar e testar o algoritmo:"
      ]
    },
    {
      "cell_type": "code",
      "execution_count": null,
      "metadata": {
        "colab": {},
        "colab_type": "code",
        "id": "L0CTTUUeKo1T"
      },
      "outputs": [],
      "source": [
        "# Imagem contendo os digitos para serem utilizados para o treinamento e teste\n",
        "a = !wget \"https://github.com/opencv/opencv/raw/master/samples/data/digits.png\" -O digits.png\n",
        "\n",
        "\n",
        "img = cv.imread('digits.png')\n",
        "gray = cv.cvtColor(img,cv.COLOR_BGR2GRAY)\n",
        "plt.imshow(img), plt.title('Digitos')\n",
        "plt.show() "
      ]
    },
    {
      "cell_type": "markdown",
      "metadata": {
        "colab_type": "text",
        "id": "qXMcn_qBhk6b"
      },
      "source": [
        "A imagem acima é composta de 5000 dígitos escritos a mão (500 para cada digito). Cada digito tem o tamanho de 20px20. Ela está organizada em 50 linhas (5 para cada digito) e 100 colunas .A imagem será separada em 5000 partes cada uma de 20x20.  "
      ]
    },
    {
      "cell_type": "code",
      "execution_count": null,
      "metadata": {
        "colab": {},
        "colab_type": "code",
        "id": "J9VMTBI1l9EK"
      },
      "outputs": [],
      "source": [
        "# Utilizando a função vsplit da biblioteca numpy (np) conseguimos obter as linhas\n",
        "# Essa função recebe uma matriz e estratifica ela baseada no valor do segundo parâmetro\n",
        "rows = np.vsplit(gray,50)\n",
        "\n",
        "plt.imshow(rows[0]) # mostra a primeira posição do vetor de linhas gerado.\n",
        "plt.show()"
      ]
    },
    {
      "cell_type": "code",
      "execution_count": null,
      "metadata": {
        "colab": {},
        "colab_type": "code",
        "id": "pkOQD5xFomb1"
      },
      "outputs": [],
      "source": [
        "# Agora utilizando a função hsplit para dividir as linhas em colunas\n",
        "\n",
        "cells = [np.hsplit(row,100) for row in rows]\n",
        "\n",
        "\n",
        "\n",
        "plt.imshow(cells[0][0]), plt.title(\"Primeiro digito\") #Acessando a primeira posição da matriz\n",
        "plt.show()\n",
        "plt.imshow(cells[49][99]), plt.title(\"Último digito\") #Acessando a última posição da matriz\n",
        "plt.show()\n",
        "\n"
      ]
    },
    {
      "cell_type": "code",
      "execution_count": null,
      "metadata": {
        "colab": {},
        "colab_type": "code",
        "id": "e5lTtAwM0BJ6"
      },
      "outputs": [],
      "source": [
        "# Transformando em um numpy array com o tamanho: (50,100,20,20)\n",
        "x = np.array(cells)\n",
        "\n",
        "\n",
        "#Preparar os dados para o treinamento e teste\n",
        "train = x[:,:50].reshape(-1,400).astype(np.float32) # Tamanho = (2500,400)\n",
        "test = x[:,50:100].reshape(-1,400).astype(np.float32) # Tamanho = (2500,400)\n",
        "\n",
        "\n",
        "# Criar as tags para treinamento e para os dados de teste\n",
        "k = np.arange(10)  #Valores de 0 a 9\n",
        "train_labels = np.repeat(k,250)[:,np.newaxis]  #Repetir a tags 2500\n",
        "test_labels = train_labels.copy()\n",
        "\n"
      ]
    },
    {
      "cell_type": "code",
      "execution_count": null,
      "metadata": {
        "colab": {},
        "colab_type": "code",
        "id": "YlDXfgDI88Sf"
      },
      "outputs": [],
      "source": [
        "#@title Reconhecimento de dígitos { run: \"auto\", form-width: \"20%\", display-mode: \"both\" }\n",
        "\n",
        "# Iniciar Knn e treinar com a com os dados de teste \n",
        "# e depois testar com os dados de teste  with k=5\n",
        "\n",
        "k = 5 #@param {type:\"slider\", min:1, max:20, step:1}\n",
        "\n",
        "knn = cv.ml.KNearest_create()\n",
        "\n",
        "knn.train(train, cv.ml.ROW_SAMPLE, train_labels) # Treinamento com base de dados e labels\n",
        "\n",
        "ret, result, neighbours, dist = knn.findNearest(test, k=k) #teste\n",
        "\n",
        "\n",
        "\n",
        "# Verificando a acurácia da classificação comparando os resultados com as tags de teste para \n",
        "# verificar qual deu errado\n",
        "matches = result==test_labels\n",
        "\n",
        "correct = np.count_nonzero(matches)\n",
        "accuracy = correct*100.0/result.size\n",
        "print( accuracy )\n",
        "\n",
        "# O que acontece com a acurácia quando alteramos o valor de k?\n"
      ]
    },
    {
      "cell_type": "code",
      "execution_count": null,
      "metadata": {
        "colab": {},
        "colab_type": "code",
        "id": "IIJUFoxJly0F"
      },
      "outputs": [],
      "source": [
        "## Utilizando para reconhecimento\n",
        "\n",
        "img_rec = np.hsplit(gray,100)[0] # Imagem que vamos utilizar para reconhecimento\n",
        "\n",
        "# primeira coluna com 50 digitos\n",
        "plt.imshow(img_rec) \n",
        "plt.show()"
      ]
    },
    {
      "cell_type": "code",
      "execution_count": null,
      "metadata": {
        "colab": {},
        "colab_type": "code",
        "id": "Ss7OYPE1qimp"
      },
      "outputs": [],
      "source": [
        "# separar iamgem em 50 partes\n",
        "test_digits = np.vsplit(img_rec, 50)\n",
        "test_cells = []\n",
        "\n",
        "# imprimir uma das celulas \n",
        "print(test_digits[0])"
      ]
    },
    {
      "cell_type": "code",
      "execution_count": null,
      "metadata": {
        "colab": {},
        "colab_type": "code",
        "id": "4ULNly3lmFFJ"
      },
      "outputs": [],
      "source": [
        "# Mudando o tipo do vetor para ser utilizado no algoritmo\n",
        "\n",
        "for d in test_digits:\n",
        "    d = d.flatten() \n",
        "    test_cells.append(d)\n",
        "test_cells = np.array(test_cells, dtype=np.float32)\n",
        "\n",
        "ret, result, neighbours, dist = knn.findNearest(test_cells, k=5) #teste\n",
        "\n",
        "# Resultado - Compare os valores com o da imagem para verificar o que foi reconhecido ou não.\n",
        "print(result) "
      ]
    },
    {
      "cell_type": "markdown",
      "metadata": {
        "colab_type": "text",
        "id": "L9WfTv8YsIe5"
      },
      "source": [
        "### Conclusão \n",
        "\n",
        "Nesse tutorial exploramos um pouco da biblioteca OpenCV e seus módulos de inteligência artificial. Exporte esse notebook com todas as seções executadas e alteradas quando foi pedido.\n"
      ]
    },
    {
      "cell_type": "markdown",
      "metadata": {
        "colab_type": "text",
        "id": "wEAFdQScmblp"
      },
      "source": [
        "# Referências \n",
        "\n",
        "\n",
        "ANIS, Ahmad. **A Complete guide to Google Colab for Deep Learning**. 2020. Disponível em: https://www.kdnuggets.com/2020/06/google-colab-deep-learning.html. Acesso em: 08 jun. 2020.\n",
        "\n",
        "OPENCV. **OpenCV-Python Tutorials.** 2020. Disponível em: https://docs.opencv.org/4.3.0/d6/d00/tutorial_py_root.html. Acesso em: 08 jun. 2020.\n",
        "\n",
        "ROSEBROCK, Adrian. **OpenCV Tutorial: A Guide to Learn OpenCV.** 2018. Disponível em: https://www.pyimagesearch.com/2018/07/19/opencv-tutorial-a-guide-to-learn-opencv/. Acesso em: 10 jun. 2020."
      ]
    }
  ],
  "metadata": {
    "colab": {
      "authorship_tag": "ABX9TyOGMNvRImqJCPAw4KBR4frT",
      "include_colab_link": true,
      "name": "Tutorial-Sem execução.ipynb",
      "provenance": [],
      "toc_visible": true
    },
    "kernelspec": {
      "display_name": "Python 3",
      "name": "python3"
    }
  },
  "nbformat": 4,
  "nbformat_minor": 0
}
